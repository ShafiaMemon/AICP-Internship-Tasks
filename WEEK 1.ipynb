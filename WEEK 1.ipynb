{
 "cells": [
  {
   "cell_type": "code",
   "execution_count": 9,
   "id": "359f1ad7",
   "metadata": {},
   "outputs": [],
   "source": [
    "import numpy as np"
   ]
  },
  {
   "cell_type": "code",
   "execution_count": 10,
   "id": "c0d1bb56",
   "metadata": {},
   "outputs": [
    {
     "name": "stdout",
     "output_type": "stream",
     "text": [
      "[30 32 34 36 38 40 42 44 46 48 50 52 54 56 58 60 62 64 66 68 70]\n"
     ]
    }
   ],
   "source": [
    "#Write a NumPy program to create an array of all even integers from 30 to 70.\n",
    "even_array = np.arange(30, 71, 2)\n",
    "print(even_array)"
   ]
  },
  {
   "cell_type": "code",
   "execution_count": 15,
   "id": "53fed533",
   "metadata": {},
   "outputs": [
    {
     "name": "stdout",
     "output_type": "stream",
     "text": [
      "[ 1.53514971 -0.2225553  -0.50003312 -1.16786959 -0.14816642 -2.05664594\n",
      " -0.20570813  0.68437289 -0.67617018  0.14066492 -0.83589201 -0.53779894\n",
      " -0.71974373  0.68327199 -0.19189957]\n"
     ]
    }
   ],
   "source": [
    "#Write a NumPy program to generate an array of 15 random numbers from a standard normal.\n",
    "random_array = np.random.randn(15)\n",
    "print(random_array)"
   ]
  },
  {
   "cell_type": "code",
   "execution_count": 16,
   "id": "e7579af6",
   "metadata": {},
   "outputs": [
    {
     "name": "stdout",
     "output_type": "stream",
     "text": [
      "[[-8.21303952e-03 -4.40601530e-02  5.24534199e-02]\n",
      " [-2.01199642e-01  3.52476557e-01  6.63682203e-02]\n",
      " [ 5.26990431e-01 -5.73165847e-05 -3.14956018e-01]]\n"
     ]
    }
   ],
   "source": [
    "#How to compute the cross-product of two matrices in NumPy?\n",
    "matrix1 = np.random.random((3, 3))\n",
    "matrix2 = np.random.random((3, 3))\n",
    "\n",
    "cross_product = np.cross(matrix1, matrix2)\n",
    "print(cross_product)"
   ]
  },
  {
   "cell_type": "code",
   "execution_count": 17,
   "id": "58b9d388",
   "metadata": {},
   "outputs": [
    {
     "name": "stdout",
     "output_type": "stream",
     "text": [
      "0.09941154887198732\n"
     ]
    }
   ],
   "source": [
    "#How to compute the determinant of an array using NumPy?\n",
    "matrix = np.random.random((3, 3))\n",
    "determinant = np.linalg.det(matrix)\n",
    "print(determinant)"
   ]
  },
  {
   "cell_type": "code",
   "execution_count": 18,
   "id": "879d5055",
   "metadata": {},
   "outputs": [
    {
     "name": "stdout",
     "output_type": "stream",
     "text": [
      "[[[0.68305162 0.88271418 0.21224842]\n",
      "  [0.97412948 0.23239772 0.2708445 ]\n",
      "  [0.28639204 0.84871439 0.31071124]]\n",
      "\n",
      " [[0.25897889 0.79019395 0.67479238]\n",
      "  [0.1337057  0.08412318 0.25671697]\n",
      "  [0.33270466 0.51443535 0.43008876]]\n",
      "\n",
      " [[0.6197269  0.17584986 0.76435714]\n",
      "  [0.01795421 0.61384262 0.61974185]\n",
      "  [0.5484537  0.86379388 0.91948817]]]\n"
     ]
    }
   ],
   "source": [
    "#How to create a 3x3x3 array with random values using NumPy?\n",
    "random_3d_array = np.random.random((3, 3, 3))\n",
    "print(random_3d_array)"
   ]
  },
  {
   "cell_type": "code",
   "execution_count": 19,
   "id": "4bd60503",
   "metadata": {},
   "outputs": [
    {
     "name": "stdout",
     "output_type": "stream",
     "text": [
      "Minimum value: 0.038227132971085376\n",
      "Maximum value: 0.9728023427162824\n"
     ]
    }
   ],
   "source": [
    "#How to create a 5x5 array with random values and find the minimum and maximum values using NumPy?\n",
    "random_5x5_array = np.random.random((5, 5))\n",
    "min_value = np.min(random_5x5_array)\n",
    "max_value = np.max(random_5x5_array)\n",
    "\n",
    "print(\"Minimum value:\", min_value)\n",
    "print(\"Maximum value:\", max_value)\n"
   ]
  },
  {
   "cell_type": "code",
   "execution_count": 20,
   "id": "1e82cf59",
   "metadata": {},
   "outputs": [
    {
     "name": "stdout",
     "output_type": "stream",
     "text": [
      "Mean along the second axis: [0.56451141 0.45457431 0.58808346]\n",
      "Standard Deviation along the second axis: [0.3145781  0.22144204 0.29554168]\n",
      "Variance along the second axis: [0.09895938 0.04903658 0.08734488]\n"
     ]
    }
   ],
   "source": [
    "#How to compute the mean, standard deviation, and variance of a given array along the second axis in NumPy?\n",
    "given_array = np.random.random((3, 4))\n",
    "\n",
    "mean = np.mean(given_array, axis=1)\n",
    "std_dev = np.std(given_array, axis=1)\n",
    "variance = np.var(given_array, axis=1)\n",
    "\n",
    "print(\"Mean along the second axis:\", mean)\n",
    "print(\"Standard Deviation along the second axis:\", std_dev)\n",
    "print(\"Variance along the second axis:\", variance)\n"
   ]
  },
  {
   "cell_type": "code",
   "execution_count": null,
   "id": "278b0fa9",
   "metadata": {},
   "outputs": [],
   "source": []
  }
 ],
 "metadata": {
  "kernelspec": {
   "display_name": "Python 3 (ipykernel)",
   "language": "python",
   "name": "python3"
  },
  "language_info": {
   "codemirror_mode": {
    "name": "ipython",
    "version": 3
   },
   "file_extension": ".py",
   "mimetype": "text/x-python",
   "name": "python",
   "nbconvert_exporter": "python",
   "pygments_lexer": "ipython3",
   "version": "3.9.12"
  }
 },
 "nbformat": 4,
 "nbformat_minor": 5
}
