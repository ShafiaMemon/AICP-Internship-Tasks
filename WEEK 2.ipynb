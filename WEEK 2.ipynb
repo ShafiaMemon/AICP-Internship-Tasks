{
 "cells": [
  {
   "cell_type": "code",
   "execution_count": 3,
   "id": "3471697b",
   "metadata": {},
   "outputs": [],
   "source": [
    "import pandas as pd"
   ]
  },
  {
   "cell_type": "code",
   "execution_count": 2,
   "id": "a0222589",
   "metadata": {},
   "outputs": [
    {
     "name": "stdout",
     "output_type": "stream",
     "text": [
      "a    1\n",
      "x    4\n",
      "c    9\n",
      "2    6\n",
      "e    7\n",
      "dtype: int64\n"
     ]
    }
   ],
   "source": [
    "#without dictionary\n",
    "# Create a Pandas Series with custom index and values\n",
    "series = pd.Series([1, 4, 9, 6, 7], index=['a', 'x', 'c', '2', 'e'])\n",
    "\n",
    "print(series)"
   ]
  },
  {
   "cell_type": "code",
   "execution_count": 1,
   "id": "83969fef",
   "metadata": {},
   "outputs": [
    {
     "name": "stdout",
     "output_type": "stream",
     "text": [
      "Bilal     42\n",
      "Ayesha    38\n",
      "Hadia     39\n",
      "dtype: int64\n"
     ]
    }
   ],
   "source": [
    "# Create a dictionary\n",
    "data = {\"Bilal\": 42, \"Ayesha\": 38, \"Hadia\": 39}\n",
    "\n",
    "# Create a pandas Series from the dictionary\n",
    "series = pd.Series(data)\n",
    "\n",
    "# Print the Series\n",
    "print(series)\n"
   ]
  },
  {
   "cell_type": "code",
   "execution_count": 4,
   "id": "9f49eb1b",
   "metadata": {},
   "outputs": [
    {
     "name": "stdout",
     "output_type": "stream",
     "text": [
      "        day  temperature  windspeed  event\n",
      "0  1/1/2017           32          6   Rain\n",
      "1  1/2/2017           35          7  Sunny\n",
      "2  1/3/2017           28          2   Snow\n",
      "3  1/4/2017           24          7   Snow\n",
      "4  1/5/2017           32          4   Rain\n",
      "5  1/6/2017           31          2  Sunny\n"
     ]
    }
   ],
   "source": [
    "# Create a Python dictionary\n",
    "data = {'day': ['1/1/2017', '1/2/2017', '1/3/2017', '1/4/2017', '1/5/2017', '1/6/2017'],\n",
    "        'temperature': [32, 35, 28, 24, 32, 31],\n",
    "        'windspeed': [6, 7, 2, 7, 4, 2],\n",
    "        'event': ['Rain', 'Sunny', 'Snow', 'Snow', 'Rain', 'Sunny']}\n",
    "\n",
    "# Create a pandas DataFrame from the dictionary\n",
    "df = pd.DataFrame(data)\n",
    "\n",
    "# Print the DataFrame\n",
    "print(df.to_string())\n"
   ]
  },
  {
   "cell_type": "code",
   "execution_count": 16,
   "id": "235bbd2e",
   "metadata": {},
   "outputs": [
    {
     "name": "stdout",
     "output_type": "stream",
     "text": [
      "        day  temperature  windspeed  event\n",
      "a  1/1/2017           32          6   Rain\n",
      "b  1/2/2017           35          7  Sunny\n",
      "c  1/3/2017           28          2   Snow\n",
      "d  1/4/2017           24          7   Snow\n",
      "e  1/5/2017           32          4   Rain\n",
      "f  1/6/2017           31          2  Sunny\n"
     ]
    }
   ],
   "source": [
    "#defining the data dictionary with the data given\n",
    "data = {\n",
    "    'day': ['1/1/2017', '1/2/2017', '1/3/2017', '1/4/2017', '1/5/2017', '1/6/2017'],\n",
    "    'temperature': [32, 35, 28, 24, 32, 31],\n",
    "    'windspeed': [6, 7, 2, 7, 4, 2],\n",
    "    'event': ['Rain', 'Sunny', 'Snow', 'Snow', 'Rain', 'Sunny']\n",
    "}\n",
    "#defining the alphabetical index\n",
    "index = ['a', 'b', 'c', 'd', 'e', 'f']\n",
    "\n",
    "#creation of pandas dataframe\n",
    "df = pd.DataFrame(data, index=index)\n",
    "print(df)"
   ]
  },
  {
   "cell_type": "code",
   "execution_count": 17,
   "id": "c238e83e",
   "metadata": {},
   "outputs": [
    {
     "name": "stdout",
     "output_type": "stream",
     "text": [
      "Mean temperature: 30.333333333333332\n",
      "Maximum temperature: 35\n",
      "Minimum temperature: 24\n"
     ]
    }
   ],
   "source": [
    "# Calculate mean, maximum, and minimum for the \"temperature\" column\n",
    "mean_temp = df['temperature'].mean()\n",
    "max_temp = df['temperature'].max()\n",
    "min_temp = df['temperature'].min()\n",
    "\n",
    "print(\"Mean temperature:\", mean_temp)\n",
    "print(\"Maximum temperature:\", max_temp)\n",
    "print(\"Minimum temperature:\", min_temp)\n"
   ]
  },
  {
   "cell_type": "code",
   "execution_count": 27,
   "id": "9fcc2302",
   "metadata": {},
   "outputs": [
    {
     "name": "stdout",
     "output_type": "stream",
     "text": [
      "AICP_DF:\n",
      "\n",
      "       Age   Address Qualification  Height\n",
      "Name                                      \n",
      "Sonia   27    Lahore           Msc     5.1\n",
      "Hifza   22   Sialkot           MCA     5.1\n",
      "Kabir   32  Peshawar           Phd     5.2\n",
      "Jazim   23       Ihr           Bsc     5.1\n",
      "\n",
      "df1:\n",
      "    Name Qualification\n",
      "0  Sonia           Msc\n",
      "1  Bilal            MA\n",
      "2  Hifza           MCA\n",
      "3  Kabir           Phd\n",
      "4  Jazim           Bsc\n",
      "\n",
      "Row with index 'Hifza':\n",
      "Age                   22\n",
      "Address          Sialkot\n",
      "Qualification        MCA\n",
      "Height               5.1\n",
      "Name: Hifza, dtype: object\n",
      "\n",
      "Row with index 3:\n",
      "Age                    32\n",
      "Address          Peshawar\n",
      "Qualification         Phd\n",
      "Height                5.2\n",
      "Name: Kabir, dtype: object\n"
     ]
    }
   ],
   "source": [
    "#defining the data dictionary with the data given\n",
    "data = {\n",
    "    'Name': ['Sonia', 'Bilal', 'Hifza', 'Kabir', 'Jazim'],\n",
    "    'Age': [27, 24, 22, 32, 23],\n",
    "    'Address': ['Lahore', 'Karachi', 'Sialkot', 'Peshawar', 'Ihr'],\n",
    "    'Qualification': ['Msc', 'MA', 'MCA', 'Phd', 'Bsc']\n",
    "}\n",
    "# Creating DataFrame named: AICP_DF\n",
    "AICP_DF = pd.DataFrame(data)\n",
    "\n",
    "# Selecting 'Name' and 'Qualification' columns and save to df1(dataframe 1)\n",
    "df1 = AICP_DF[['Name', 'Qualification']]\n",
    "\n",
    "# Adding a new column \"Height\" to AICP_DF\n",
    "AICP_DF['Height'] = [5.1, 6.2, 5.1, 5.2, 5.1]\n",
    "\n",
    "# Setting up column \"Name\" as the index column\n",
    "AICP_DF.set_index('Name', inplace=True)\n",
    "\n",
    "# Retrieving the row with index \"Hifza\"\n",
    "row_hifza = AICP_DF.loc['Hifza']\n",
    "\n",
    "# Retrieving the row with index 3\n",
    "row_index_3 = AICP_DF.iloc[3]\n",
    "\n",
    "# Dropping the row with index \"Bilal\"\n",
    "AICP_DF.drop(index='Bilal', inplace=True)\n",
    "\n",
    "# Displaying the resulting DataFrame AICP_DF and all other performed operations\n",
    "print(\"AICP_DF:\")\n",
    "print()\n",
    "print(AICP_DF)\n",
    "\n",
    "print(\"\\ndf1:\")\n",
    "print(df1)\n",
    "\n",
    "print(\"\\nRow with index 'Hifza':\")\n",
    "print(row_hifza)\n",
    "\n",
    "print(\"\\nRow with index 3:\")\n",
    "print(row_index_3)"
   ]
  },
  {
   "cell_type": "code",
   "execution_count": 30,
   "id": "9d52b332",
   "metadata": {},
   "outputs": [
    {
     "name": "stdout",
     "output_type": "stream",
     "text": [
      "Successfully imported the Excel sheet and saved it as 'Output.xlsx'.\n"
     ]
    }
   ],
   "source": [
    "# Load the Excel sheet\n",
    "df = pd.read_excel(\"SampleWork.xlsx\", sheet_name=0, usecols=[0, -1], skiprows=1)\n",
    "\n",
    "# Set row 2 as the header\n",
    "df.columns = df.iloc[0, :]\n",
    "df = df.iloc[1:, :]\n",
    "\n",
    "# Save the DataFrame to a new Excel sheet\n",
    "df.to_excel(\"Output.xlsx\", index=False)\n",
    "\n",
    "print(\"Successfully imported the Excel sheet and saved it as 'Output.xlsx'.\")\n"
   ]
  },
  {
   "cell_type": "code",
   "execution_count": 31,
   "id": "2c470f6b",
   "metadata": {},
   "outputs": [
    {
     "name": "stdout",
     "output_type": "stream",
     "text": [
      "Successfully imported CSV, processed data, and exported as 'NewPeople.csv'.\n"
     ]
    }
   ],
   "source": [
    "# Specify file path (modify as needed)\n",
    "file_path = \"people.csv\"\n",
    "\n",
    "# Read the CSV file, selecting specific columns and skipping rows\n",
    "df = pd.read_csv(\n",
    "    file_path,\n",
    "    usecols=[\"First Name\", \"Sex\", \"Email\", \"Phone\", \"Job Title\"],\n",
    "    skiprows=[1, 5],\n",
    ")\n",
    "\n",
    "# Set specified columns as index\n",
    "df.set_index([\"Sex\", \"Job Title\"], inplace=True)\n",
    "\n",
    "# Export the DataFrame as a new CSV file\n",
    "df.to_csv(\"NewPeople.csv\", index=True)\n",
    "\n",
    "print(\"Successfully imported CSV, processed data, and exported as 'NewPeople.csv'.\")\n"
   ]
  },
  {
   "cell_type": "code",
   "execution_count": null,
   "id": "455efce5",
   "metadata": {},
   "outputs": [],
   "source": []
  },
  {
   "cell_type": "code",
   "execution_count": null,
   "id": "9304a4bc",
   "metadata": {},
   "outputs": [],
   "source": []
  }
 ],
 "metadata": {
  "kernelspec": {
   "display_name": "Python 3 (ipykernel)",
   "language": "python",
   "name": "python3"
  },
  "language_info": {
   "codemirror_mode": {
    "name": "ipython",
    "version": 3
   },
   "file_extension": ".py",
   "mimetype": "text/x-python",
   "name": "python",
   "nbconvert_exporter": "python",
   "pygments_lexer": "ipython3",
   "version": "3.9.12"
  }
 },
 "nbformat": 4,
 "nbformat_minor": 5
}
